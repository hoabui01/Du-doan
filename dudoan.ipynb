{
 "cells": [
  {
   "cell_type": "code",
   "execution_count": null,
   "metadata": {},
   "outputs": [],
   "source": [
    "import pandas as pd\n",
    "from sklearn.feature_extraction.text import TfidfVectorizer\n",
    "from sklearn.metrics.pairwise import cosine_similarity\n",
    "\n",
    "# Đọc dữ liệu từ file CSV\n",
    "data = pd.read_csv('OnlineRetail.csv')"
   ]
  },
  {
   "cell_type": "code",
   "execution_count": null,
   "metadata": {},
   "outputs": [],
   "source": [
    "# Xây dựng ma trận term-document bằng TF-IDF cho mô hình Content-Based Filtering\n",
    "tfidf = TfidfVectorizer(stop_words='english')\n",
    "product_matrix = tfidf.fit_transform(data['Description'])"
   ]
  },
  {
   "cell_type": "code",
   "execution_count": null,
   "metadata": {},
   "outputs": [],
   "source": [
    "# Tính toán ma trận tương đồng cosine giữa các sản phẩm\n",
    "product_sim_matrix = cosine_similarity(product_matrix)"
   ]
  },
  {
   "cell_type": "code",
   "execution_count": null,
   "metadata": {},
   "outputs": [],
   "source": [
    "# Hàm gợi ý sản phẩm dựa trên Collaborative Filtering\n",
    "def collaborative_filtering_recommendation(customer_id, data):\n",
    "    customer_data = data[data['CustomerID'] == customer_id]\n",
    "    if customer_data.empty:\n",
    "        print('Khách hàng không có dữ liệu mua hàng.')\n",
    "        return\n",
    "    else:\n",
    "        customer_products = set(customer_data['StockCode'])\n",
    "        recommended_products = set()\n",
    "\n",
    "        for product in customer_products:\n",
    "            similar_products = data[data['StockCode'] == product]['Description']\n",
    "            recommended_products.update(similar_products)\n",
    "\n",
    "        recommended_products -= customer_products\n",
    "        return recommended_products"
   ]
  },
  {
   "cell_type": "code",
   "execution_count": null,
   "metadata": {},
   "outputs": [],
   "source": [
    "# Hàm gợi ý sản phẩm dựa trên Content-Based Filtering\n",
    "def content_based_recommendation(product_name, data):\n",
    "    product_idx = data[data['Description'] == product_name].index[0]\n",
    "    similar_products_idx = sorted(\n",
    "        list(enumerate(product_sim_matrix[product_idx])),\n",
    "        key=lambda x: x[1],\n",
    "        reverse=True\n",
    "    )\n",
    "    similar_products = [data.iloc[idx]['Description'] for idx, _ in similar_products_idx[1:6]]\n",
    "    return similar_products\n"
   ]
  },
  {
   "cell_type": "code",
   "execution_count": null,
   "metadata": {},
   "outputs": [],
   "source": [
    "# Gợi ý sản phẩm cho khách hàng dựa trên kết hợp Collaborative Filtering và Content-Based Filtering\n",
    "def hybrid_recommendation(customer_id, data, product_name):\n",
    "    collaborative_products = collaborative_filtering_recommendation(customer_id, data)\n",
    "    content_based_products = content_based_recommendation(product_name, data)\n",
    "\n",
    "    recommended_products = set(collaborative_products) | set(content_based_products)\n",
    "    return recommended_products"
   ]
  },
  {
   "cell_type": "code",
   "execution_count": null,
   "metadata": {},
   "outputs": [],
   "source": [
    "# Gợi ý sản phẩm cho một khách hàng cụ thể và một sản phẩm cụ thể\n",
    "customer_id = 'Mã khách hàng cần gợi ý'\n",
    "product_name = 'Sản phẩm cần gợi ý'\n",
    "recommended_products = hybrid_recommendation(customer_id, data, product_name)"
   ]
  },
  {
   "cell_type": "code",
   "execution_count": null,
   "metadata": {},
   "outputs": [],
   "source": [
    "# In ra kết quả gợi ý sản phẩm\n",
    "print('Các sản phẩm gợi ý:')\n",
    "for product in recommended_products:\n",
    "    print(product)\n"
   ]
  }
 ],
 "metadata": {
  "kernelspec": {
   "display_name": "venv",
   "language": "python",
   "name": "python3"
  },
  "language_info": {
   "codemirror_mode": {
    "name": "ipython",
    "version": 3
   },
   "file_extension": ".py",
   "mimetype": "text/x-python",
   "name": "python",
   "nbconvert_exporter": "python",
   "pygments_lexer": "ipython3",
   "version": "3.9.10"
  },
  "orig_nbformat": 4
 },
 "nbformat": 4,
 "nbformat_minor": 2
}
